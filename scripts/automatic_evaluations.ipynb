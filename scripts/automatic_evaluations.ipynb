{
 "cells": [
  {
   "cell_type": "code",
   "execution_count": null,
   "id": "included-flour",
   "metadata": {},
   "outputs": [],
   "source": [
    "import json\n",
    "from collections import Counter\n",
    "from pathlib import Path\n",
    "import numpy as np\n",
    "\n",
    "import nltk.translate.bleu_score as bleu\n",
    "from nltk.translate import bleu_score as nltkbleu\n",
    "\n",
    "\n",
    "def eval_dist_from_json(json_file):\n",
    "    with open(json_file, \"r\") as f:\n",
    "        datas = json.load(f)\n",
    "    sents = [data[\"beam_text\"] for data in datas]\n",
    "\n",
    "    unigrams = Counter()\n",
    "    bigrams = Counter()\n",
    "    trigrams = Counter()\n",
    "    tot_tokens = 0\n",
    "    for sent in sents:\n",
    "        words = sent.strip().split()\n",
    "        unigrams.update(words)\n",
    "        bigrams.update(zip(words[:-1], words[1:]))\n",
    "        trigrams.update(zip(words[:-2], words[1:-1], words[2:]))\n",
    "        tot_tokens += len(words)\n",
    "        \n",
    "    print(f\"{(len(unigrams) / float(tot_tokens)):.3f}\", \n",
    "          f\"{(len(bigrams) / float(tot_tokens)):.3f}\", \n",
    "          f\"{(len(trigrams) / float(tot_tokens)):.3f}\", \n",
    "          \"\\n\")\n",
    "\n",
    "def bleu_from_json(json_file, k=2):\n",
    "    weights = [1 / k for _ in range(k)]\n",
    "    with open(json_file, \"r\") as f:\n",
    "        datas = json.load(f)\n",
    "    texts = [data[\"beam_text\"] for data in datas]\n",
    "    cands = [data[\"candidate\"][0] for data in datas]\n",
    "    bleu_scores = []\n",
    "    for text, cand in zip(texts, cands):\n",
    "        bleu_score = bleu.sentence_bleu(\n",
    "            [cand.split(\" \")],\n",
    "            text.split(\" \"),  \n",
    "            smoothing_function=nltkbleu.SmoothingFunction(epsilon=1e-12).method1,\n",
    "            weights=weights,\n",
    "        )\n",
    "        bleu_scores.append(bleu_score)\n",
    "    return bleu_scores"
   ]
  }
 ],
 "metadata": {
  "kernelspec": {
   "display_name": "Python 3",
   "language": "python",
   "name": "python3"
  },
  "language_info": {
   "codemirror_mode": {
    "name": "ipython",
    "version": 3
   },
   "file_extension": ".py",
   "mimetype": "text/x-python",
   "name": "python",
   "nbconvert_exporter": "python",
   "pygments_lexer": "ipython3",
   "version": "3.7.10"
  }
 },
 "nbformat": 4,
 "nbformat_minor": 5
}
